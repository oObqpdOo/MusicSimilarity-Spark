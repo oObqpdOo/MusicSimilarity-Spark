{
 "cells": [
  {
   "cell_type": "code",
   "execution_count": 2,
   "metadata": {},
   "outputs": [
    {
     "name": "stdout",
     "output_type": "stream",
     "text": [
      "                             id  \\\n",
      "2437424  2K5p4xVAUJyHUfvpB8CxSq   \n",
      "2437425  6B9rbfyhqvgYzM04bl0i55   \n",
      "2437428  21eh8xwry1icNke3dg1DcY   \n",
      "2437429  2jjUUKlLlND111RwLTIelB   \n",
      "2437430  41eYgbaLhjsghK5ATfTkaV   \n",
      "...                         ...   \n",
      "8741667  12S1TA13KXl13sCQZgtI5y   \n",
      "8741668  134MLEMX0AWp5kbMMf90f8   \n",
      "8741669  13WVJaMn0ztUCU8UFCKQFO   \n",
      "8741670  11SfAvTgnEEYy4Ef0fyFpE   \n",
      "8741671  13EW51DKru044OJDJ9Bm8o   \n",
      "\n",
      "                                               preview_url  \n",
      "2437424  https://p.scdn.co/mp3-preview/075e5c1aad031f7d...  \n",
      "2437425  https://p.scdn.co/mp3-preview/7475de012d8f0ef9...  \n",
      "2437428  https://p.scdn.co/mp3-preview/9e7dc85cbd419639...  \n",
      "2437429  https://p.scdn.co/mp3-preview/af56e0a6ad7b9e11...  \n",
      "2437430  https://p.scdn.co/mp3-preview/da76fa90c1c2a852...  \n",
      "...                                                    ...  \n",
      "8741667  https://p.scdn.co/mp3-preview/338399db9ca74488...  \n",
      "8741668  https://p.scdn.co/mp3-preview/3920a3e0e64de14f...  \n",
      "8741669  https://p.scdn.co/mp3-preview/e50bbeb308c9a292...  \n",
      "8741670  https://p.scdn.co/mp3-preview/97fd7c0fb307e3e0...  \n",
      "8741671  https://p.scdn.co/mp3-preview/49a5adcb57d1f767...  \n",
      "\n",
      "[4464113 rows x 2 columns]\n"
     ]
    }
   ],
   "source": [
    "import sqlite3\n",
    "import numpy as np # linear algebra\n",
    "import pandas as pd # data processing, CSV file I/O (e.g. pd.read_csv)\n",
    "import os\n",
    "import json\n",
    "import os\n",
    "import urllib.request\n",
    "from mpi4py import MPI\n",
    "comm = MPI.COMM_WORLD\n",
    "rank = comm.Get_rank()\n",
    "size = comm.Get_size()\n",
    "\n",
    "cnx = sqlite3.connect('spotify.sqlite')\n",
    "df = pd.read_sql_query(\"SELECT id, preview_url FROM tracks\", cnx)\n",
    "df = df[df.preview_url !='']\n",
    "df = df.tail(-2000000)"
   ]
  },
  {
   "cell_type": "code",
   "execution_count": null,
   "metadata": {},
   "outputs": [],
   "source": [
    "print(df)\n",
    "print(df.count())"
   ]
  },
  {
   "cell_type": "code",
   "execution_count": null,
   "metadata": {},
   "outputs": [],
   "source": [
    "\n",
    "\n",
    "audio_path = '/beegfs/ja62lel/6M/'\n",
    "processed = 0\n",
    "\n",
    "#def download():\n",
    "for index, row in df.iterrows():\n",
    "    if processed % size == rank:\n",
    "        uri = row['id']\n",
    "        url = row['preview_url']\n",
    "        fn = uri+'.mp3'\n",
    "        subpath = uri[-2:]\n",
    "        full_path = os.path.join(audio_path, subpath)\n",
    "        full_fn = os.path.join(full_path, fn)\n",
    "        if not os.path.exists(full_path):\n",
    "            os.makedirs(full_path)\n",
    "        if not os.path.exists(full_fn):\n",
    "            for i in range(5):\n",
    "                try:\n",
    "                    print(\"downloading!\")\n",
    "                    print(row['id'] + \"|\" + row['preview_url'] + \"\\n\")\n",
    "                    urllib.request.urlretrieve(url, full_fn)\n",
    "                except:\n",
    "                    print(\"Failed to retrieve \" + url)\n",
    "                    continue\n",
    "                else:\n",
    "                    break\n",
    "            else:\n",
    "                print('url error. continue')\n",
    "        else:\n",
    "            print(\"Exists: skipping\")\n",
    "\n",
    "#download()\n",
    "print(\"Done\")\n"
   ]
  }
 ],
 "metadata": {
  "kernelspec": {
   "display_name": "Python 3",
   "language": "python",
   "name": "python3"
  },
  "language_info": {
   "codemirror_mode": {
    "name": "ipython",
    "version": 3
   },
   "file_extension": ".py",
   "mimetype": "text/x-python",
   "name": "python",
   "nbconvert_exporter": "python",
   "pygments_lexer": "ipython3",
   "version": "3.8.10"
  }
 },
 "nbformat": 4,
 "nbformat_minor": 4
}
