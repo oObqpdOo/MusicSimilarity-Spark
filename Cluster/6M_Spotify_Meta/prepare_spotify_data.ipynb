{
 "cells": [
  {
   "cell_type": "code",
   "execution_count": 3,
   "metadata": {},
   "outputs": [],
   "source": [
    "#!/usr/bin/python\n",
    "# -*- coding: utf-8 -*-\n",
    "import sqlite3\n",
    "import numpy as np # linear algebra\n",
    "import pandas as pd # data processing, CSV file I/O (e.g. pd.read_csv)\n",
    "import json\n",
    "import os\n",
    "\n",
    "cnx = sqlite3.connect('spotify.sqlite')\n",
    "#cnx.text_factory = bytes\n",
    "cnx.text_factory = lambda b: b.decode(errors = 'ignore')"
   ]
  },
  {
   "cell_type": "code",
   "execution_count": 3,
   "metadata": {},
   "outputs": [],
   "source": [
    "df_tracks = pd.read_sql_query(\"SELECT id, name, preview_url, popularity, track_number, explicit FROM tracks\", cnx)\n",
    "df_tracks = df_tracks[df_tracks.preview_url !='']\n",
    "df_albums = pd.read_sql_query(\"SELECT id, name FROM albums\", cnx)\n",
    "df_artists = pd.read_sql_query(\"SELECT id, name FROM artists\", cnx)\n",
    "df_albums_tracks = pd.read_sql_query(\"SELECT track_id, album_id FROM r_albums_tracks\", cnx)\n",
    "df_track_artist = pd.read_sql_query(\"SELECT track_id, artist_id FROM r_track_artist\", cnx)\n",
    "\n",
    "df_artist_genre = pd.read_sql_query(\"SELECT * FROM r_artist_genre\", cnx)\n",
    "df_audio_features = pd.read_sql_query(\"SELECT * FROM audio_features\", cnx)"
   ]
  },
  {
   "cell_type": "code",
   "execution_count": 4,
   "metadata": {},
   "outputs": [],
   "source": [
    "df_tracks = df_tracks.rename(columns={'name': 'track', 'id': 'track_id'})\n",
    "df_albums = df_albums.rename(columns={'name': 'album', 'id': 'album_id'})\n",
    "df_artists = df_artists.rename(columns={'name': 'artist', 'id': 'artist_id'})\n",
    "\n",
    "df_albums_tracks = df_albums_tracks.rename(columns={'album_id': 'album_id', 'track_id': 'track_id'})\n",
    "df_track_artist = df_track_artist.rename(columns={'artist_id': 'artist_id', 'track_id': 'track_id'})\n",
    "df_audio_features = df_audio_features.rename(columns={'id': 'track_id'})"
   ]
  },
  {
   "cell_type": "code",
   "execution_count": 5,
   "metadata": {},
   "outputs": [
    {
     "name": "stdout",
     "output_type": "stream",
     "text": [
      "                 track_id                      track  \\\n",
      "1  2g8HN35AnVGIk7B8yMucww  Big Poppa - 2005 Remaster   \n",
      "3  4E5IFAXCob6QqZaJMTw5YN        Poppin' Them Thangs   \n",
      "\n",
      "                                         preview_url  \n",
      "1  https://p.scdn.co/mp3-preview/770e023eb0318270...  \n",
      "3  https://p.scdn.co/mp3-preview/f3b556ced9657f89...  \n",
      "                 album_id                                              album\n",
      "0  2jKoVlU7VAmExKJ1Jh3w9P         Alkaholik (feat. Erik Sermon, J Ro & Tash)\n",
      "1  4JYUDRtPZuVNi7FAnbHyux  Flava in Ya Ear Remix (feat. Notorious B.I.G.,...\n",
      "                artist_id        artist\n",
      "0  4tujQJicOnuZRLiBFdp3Ou        Xzibit\n",
      "1  2VX0o9LDIVmKIgpnwdJpOJ  Erick Sermon\n",
      "                 track_id                album_id\n",
      "0  3HnrHGLE9u2MjHtdobfWl9  6os2Mv58OYnQClPf7B9E1s\n",
      "1  4lDjkpUrpWlMFofIpzuExK  6os2Mv58OYnQClPf7B9E1s\n",
      "                 track_id               artist_id\n",
      "0  2jKoVlU7VAmExKJ1Jh3w9P  4tujQJicOnuZRLiBFdp3Ou\n",
      "1  2jKoVlU7VAmExKJ1Jh3w9P  2VX0o9LDIVmKIgpnwdJpOJ\n"
     ]
    }
   ],
   "source": [
    "print(df_tracks.head(2))\n",
    "print(df_albums.head(2))\n",
    "print(df_artists.head(2))\n",
    "\n",
    "print(df_albums_tracks.head(2))\n",
    "print(df_track_artist.head(2))\n",
    "\n",
    "print(df_artist_genre.head(2))\n",
    "print(df_audio_features.head(2))"
   ]
  },
  {
   "cell_type": "code",
   "execution_count": null,
   "metadata": {},
   "outputs": [],
   "source": [
    "df_spotify = df_tracks.merge(right=df_albums_tracks, how='inner', left_on='track_id', right_on='track_id')\n",
    "df_spotify = df_spotify.merge(right=df_track_artist, how='inner', left_on='track_id', right_on='track_id')\n",
    "df_spotify = df_spotify.merge(right=df_albums, how='inner', left_on='album_id', right_on='album_id')\n",
    "df_spotify = df_spotify.merge(right=df_artists, how='inner', left_on='artist_id', right_on='artist_id')\n",
    "\n",
    "df_spotify = df_spotify.merge(right=df_artist_genre, how='inner', left_on='artist_id', right_on='artist_id')\n",
    "df_spotify = df_spotify.merge(right=df_audio_features, how='inner', left_on='track_id', right_on='track_id')\n"
   ]
  },
  {
   "cell_type": "code",
   "execution_count": null,
   "metadata": {},
   "outputs": [],
   "source": [
    "df_spotify.info()\n",
    "print(df_spotify)"
   ]
  },
  {
   "cell_type": "code",
   "execution_count": null,
   "metadata": {},
   "outputs": [],
   "source": [
    "df_spotify.to_csv(\"aggregated_spotify_info.csv\")"
   ]
  },
  {
   "cell_type": "markdown",
   "metadata": {},
   "source": [
    "# Preprocessed load"
   ]
  },
  {
   "cell_type": "code",
   "execution_count": null,
   "metadata": {},
   "outputs": [],
   "source": [
    "df_spotify = pd.read_csv(\"aggregated_spotify_info.csv\")\n",
    "df_spotify['artist'].apply(lambda x: x.lower())\n",
    "df_spotify['album'].apply(lambda x: x.lower())\n",
    "df_spotify['track'].apply(lambda x: x.lower())"
   ]
  },
  {
   "cell_type": "code",
   "execution_count": null,
   "metadata": {},
   "outputs": [],
   "source": [
    "df_spotify.info()\n",
    "print(df_spotify)"
   ]
  },
  {
   "cell_type": "code",
   "execution_count": null,
   "metadata": {},
   "outputs": [],
   "source": [
    "df_private = pd.read_csv(\"tags.csv\")\n",
    "df_private = df_private[df_private['Artist'].notna()]\n",
    "df_private = df_private[df_private['Album'].notna()]\n",
    "df_private = df_private[df_private['Title'].notna()]\n",
    "df_private = df_private.rename(columns={'Artist': 'artist', 'Album': 'album', 'Title': 'track'})\n",
    "\n",
    "df_private['artist'].apply(lambda x: x.lower())\n",
    "df_private['album'].apply(lambda x: x.lower())\n",
    "df_private['track'].apply(lambda x: x.lower())\n",
    "\n",
    "print(df_private)"
   ]
  },
  {
   "cell_type": "markdown",
   "metadata": {},
   "source": [
    "# MERGE ON ALL"
   ]
  },
  {
   "cell_type": "code",
   "execution_count": null,
   "metadata": {},
   "outputs": [],
   "source": [
    "df_merged = pd.merge(df_spotify, df_private,  how='inner', left_on=['track','artist','album'], right_on = ['track','artist','album'])"
   ]
  },
  {
   "cell_type": "code",
   "execution_count": null,
   "metadata": {},
   "outputs": [],
   "source": [
    "df_merged.info()\n",
    "print(df_merged)"
   ]
  },
  {
   "cell_type": "code",
   "execution_count": null,
   "metadata": {},
   "outputs": [],
   "source": [
    "df_merged.to_csv(\"merged_datasets.csv\")"
   ]
  },
  {
   "cell_type": "markdown",
   "metadata": {},
   "source": [
    "# MERGE ON ARTIST AND TITLE"
   ]
  },
  {
   "cell_type": "code",
   "execution_count": null,
   "metadata": {},
   "outputs": [],
   "source": [
    "df_merged = pd.merge(df_spotify, df_private,  how='inner', left_on=['track','artist'], right_on = ['track','artist'])"
   ]
  }
 ],
 "metadata": {
  "kernelspec": {
   "display_name": "Python 3 (ipykernel)",
   "language": "python",
   "name": "python3"
  },
  "language_info": {
   "codemirror_mode": {
    "name": "ipython",
    "version": 3
   },
   "file_extension": ".py",
   "mimetype": "text/x-python",
   "name": "python",
   "nbconvert_exporter": "python",
   "pygments_lexer": "ipython3",
   "version": "3.10.12"
  }
 },
 "nbformat": 4,
 "nbformat_minor": 4
}
