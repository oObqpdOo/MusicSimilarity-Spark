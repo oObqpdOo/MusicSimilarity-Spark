{
 "cells": [
  {
   "cell_type": "code",
   "execution_count": 1,
   "metadata": {},
   "outputs": [
    {
     "ename": "IndexError",
     "evalue": "list index out of range",
     "output_type": "error",
     "traceback": [
      "\u001b[0;31m---------------------------------------------------------------------------\u001b[0m",
      "\u001b[0;31mIndexError\u001b[0m                                Traceback (most recent call last)",
      "\u001b[0;32m<ipython-input-1-827fda9a7e3a>\u001b[0m in \u001b[0;36m<module>\u001b[0;34m\u001b[0m\n\u001b[1;32m     31\u001b[0m     \u001b[0mfilelist\u001b[0m\u001b[0;34m.\u001b[0m\u001b[0mappend\u001b[0m\u001b[0;34m(\u001b[0m\u001b[0mfilename\u001b[0m\u001b[0;34m)\u001b[0m\u001b[0;34m\u001b[0m\u001b[0;34m\u001b[0m\u001b[0m\n\u001b[1;32m     32\u001b[0m \u001b[0;34m\u001b[0m\u001b[0m\n\u001b[0;32m---> 33\u001b[0;31m \u001b[0mpath\u001b[0m \u001b[0;34m=\u001b[0m \u001b[0mstr\u001b[0m\u001b[0;34m(\u001b[0m\u001b[0mPurePath\u001b[0m\u001b[0;34m(\u001b[0m\u001b[0mfilelist\u001b[0m\u001b[0;34m[\u001b[0m\u001b[0;36m4\u001b[0m\u001b[0;34m]\u001b[0m\u001b[0;34m)\u001b[0m\u001b[0;34m)\u001b[0m\u001b[0;34m\u001b[0m\u001b[0;34m\u001b[0m\u001b[0m\n\u001b[0m\u001b[1;32m     34\u001b[0m \u001b[0;34m\u001b[0m\u001b[0m\n\u001b[1;32m     35\u001b[0m \u001b[0mpath\u001b[0m \u001b[0;34m=\u001b[0m \u001b[0;34m(\u001b[0m\u001b[0;34m'music/guitar2.mp3'\u001b[0m\u001b[0;34m)\u001b[0m\u001b[0;34m\u001b[0m\u001b[0;34m\u001b[0m\u001b[0m\n",
      "\u001b[0;31mIndexError\u001b[0m: list index out of range"
     ]
    }
   ],
   "source": [
    "import numpy, scipy, matplotlib.pyplot as plt, sklearn, librosa, urllib, IPython.display\n",
    "import essentia\n",
    "import numpy as np\n",
    "import librosa.display\n",
    "import signal\n",
    "plt.rcParams['figure.figsize'] = (14,4)\n",
    "\n",
    "from scipy.signal import butter, lfilter, freqz\n",
    "\n",
    "import glob\n",
    "from pathlib import Path, PurePath\n",
    "\n",
    "import essentia\n",
    "import essentia.standard as es\n",
    "import essentia.streaming as ess\n",
    "from essentia.standard import *\n",
    "\n",
    "\n",
    "from pylab import plot, show, figure, imshow\n",
    "%matplotlib inline\n",
    "\n",
    "#full array conversion to text! no truncation\n",
    "np.set_printoptions(threshold=np.inf)\n",
    "\n",
    "filelist = []\n",
    "\n",
    "for filename in Path('music').glob('**/*.mp3'):\n",
    "    filelist.append(filename)\n",
    "    \n",
    "for filename in Path('music').glob('**/*.wav'):\n",
    "    filelist.append(filename)\n",
    "    \n",
    "path = str(PurePath(filelist[4]))\n",
    "\n",
    "path = ('music/guitar2.mp3')\n",
    "\n",
    "print(path)\n",
    "fs = 44100"
   ]
  },
  {
   "cell_type": "code",
   "execution_count": 2,
   "metadata": {},
   "outputs": [],
   "source": [
    "def butter_highpass(cutoff, fs, order=5):\n",
    "    nyq = 0.5 * fs\n",
    "    normal_cutoff = cutoff / nyq\n",
    "    b, a = butter(order, normal_cutoff, btype='high', analog=False)\n",
    "    return b, a\n",
    "\n",
    "def butter_highpass_filter(data, cutoff, fs, order=5):\n",
    "    b, a = butter_highpass(cutoff, fs, order=order)\n",
    "    y = lfilter(b, a, data)\n",
    "    return y\n",
    "\n",
    "def butter_lowpass(cutoff, fs, order=5):\n",
    "    nyq = 0.5 * fs\n",
    "    normal_cutoff = cutoff / nyq\n",
    "    b, a = butter(order, normal_cutoff, btype='low', analog=False)\n",
    "    return b, a\n",
    "\n",
    "def butter_lowpass_filter(data, cutoff, fs, order=5):\n",
    "    b, a = butter_lowpass(cutoff, fs, order=order)\n",
    "    y = lfilter(b, a, data)\n",
    "    return y"
   ]
  },
  {
   "cell_type": "code",
   "execution_count": 13,
   "metadata": {},
   "outputs": [],
   "source": [
    "def compute_features(path):\n",
    "    # Loading audio file\n",
    "    #will resample if sampleRate is different!\n",
    "    audio = es.MonoLoader(filename=path, sampleRate=fs)()\n",
    "    #will resample if sampleRate is different!\n",
    "    loader = ess.MonoLoader(filename=path, sampleRate=44100)\n",
    "    # Initialize algorithms we will use\n",
    "    frameSize = 4096#512\n",
    "    hopSize = 2048#256\n",
    "\n",
    "    #will resample if sampleRate is different!\n",
    "\n",
    "    #######################################\n",
    "    # DO FILTERING ONLY FOR MFCC - not with essentia standard\n",
    "    # below is just an example\n",
    "    \n",
    "    #HP = es.HighPass(cutoffFrequency=128)\n",
    "    #LP = es.LowPass(cutoffFrequency=4096)\n",
    "    #lp_f = LP(audio)\n",
    "    #hp_f = HP(lp_f)\n",
    "    #audio = hp_f\n",
    "    #MonoWriter(filename='music/filtered.wav')(filtered_audio)\n",
    "\n",
    "    HP = ess.HighPass(cutoffFrequency=128)\n",
    "    LP = ess.LowPass(cutoffFrequency=4096)\n",
    "    \n",
    "    #loader = ess.MonoLoader(filename=path, sampleRate=44100)\n",
    "    #writer = ess.MonoWriter(filename='music/filtered.wav')\n",
    "    #frameCutter = FrameCutter(frameSize = 1024, hopSize = 512)\n",
    "    #pool = essentia.Pool()\n",
    "    # Connect streaming algorithms\n",
    "    #loader.audio >> HP.signal\n",
    "    #HP.signal >> LP.signal\n",
    "    #LP.signal >> writer.audio\n",
    "    # Run streaming network\n",
    "    #essentia.run(loader)\n",
    "    \n",
    "    #####################################\n",
    "    # extract mfcc\n",
    "    #####################################\n",
    "\n",
    "    #features, features_frames = es.MusicExtractor(analysisSampleRate=44100, mfccStats=['mean', 'cov'])(path)\n",
    "    #m, n = features['lowlevel.mfcc.cov'].shape\n",
    "    #print m\n",
    "    #iu1 = np.triu_indices(m)\n",
    "    #cov = features['lowlevel.mfcc.cov'][iu1]\n",
    "    #mean = features['lowlevel.mfcc.mean']\n",
    "    #print(features['lowlevel.mfcc.cov'])\n",
    "    \n",
    "    hamming_window = es.Windowing(type='hamming')\n",
    "    spectrum = es.Spectrum()  # we just want the magnitude spectrum\n",
    "    mfcc = es.MFCC(numberCoefficients=13)\n",
    "    frame_sz = 2048#512\n",
    "    hop_sz = 1024#256\n",
    "    mfccs = numpy.array([mfcc(spectrum(hamming_window(frame)))[1]\n",
    "                   for frame in es.FrameGenerator(audio, frameSize=frame_sz, hopSize=hop_sz)])\n",
    "\n",
    "    #Let's scale the MFCCs such that each coefficient dimension has zero mean and unit variance:\n",
    "    #mfccs = sklearn.preprocessing.scale(mfccs)\n",
    "    #print mfccs.shape\n",
    "\n",
    "    mean = numpy.mean(mfccs.T, axis=1)\n",
    "    #print(mean)\n",
    "    var = numpy.var(mfccs.T, axis=1)\n",
    "    #print(var)\n",
    "    cov = numpy.cov(mfccs.T)\n",
    "\n",
    "    #get only upper triangular matrix values to shorten length\n",
    "    iu1 = np.triu_indices(12)\n",
    "    cov = cov[iu1]\n",
    "\n",
    "    plt.imshow(mfccs.T, origin='lower', aspect='auto', interpolation='nearest')\n",
    "    plt.ylabel('MFCC Coefficient Index')\n",
    "    plt.xlabel('Frame Index')    \n",
    "    plt.colorbar()\n",
    "    \n",
    "    #####################################\n",
    "    # extract beat features and histogram\n",
    "    #####################################\n",
    "\n",
    "    # Compute beat positions and BPM\n",
    "    rhythm_extractor = es.RhythmExtractor2013(method=\"multifeature\")\n",
    "    bpm, beats, beats_confidence, _, beats_intervals = rhythm_extractor(audio)\n",
    "    peak1_bpm, peak1_weight, peak1_spread, peak2_bpm, peak2_weight, peak2_spread, histogram = BpmHistogramDescriptors()(beats_intervals)\n",
    "\n",
    "    tempo = bpm\n",
    "    times = beats\n",
    "    beats_frames = (beats * fs) / hopSize\n",
    "    beats_frames = beats_frames.astype(int)\n",
    "    \n",
    "    fig, ax = plt.subplots()\n",
    "    ax.bar(range(len(histogram)), histogram, width=1)\n",
    "    ax.set_xlabel('BPM')\n",
    "    ax.set_ylabel('Frequency')\n",
    "    plt.title(\"BPM histogram\")\n",
    "    ax.set_xticks([20 * x + 0.5 for x in range(int(len(histogram) / 20))])\n",
    "    ax.set_xticklabels([str(20 * x) for x in range(int(len(histogram) / 20))])\n",
    "    plt.show()\n",
    "    \n",
    "    #####################################\n",
    "    # extract full beat aligned chroma\n",
    "    #####################################\n",
    "    \n",
    "    framecutter = ess.FrameCutter(frameSize=frameSize, hopSize=hopSize, silentFrames='noise')\n",
    "    windowing = ess.Windowing(type='blackmanharris62')\n",
    "    spectrum = ess.Spectrum()\n",
    "    spectralpeaks = ess.SpectralPeaks(orderBy='magnitude',\n",
    "                                      magnitudeThreshold=0.00001,\n",
    "                                      minFrequency=20,\n",
    "                                      maxFrequency=3500,\n",
    "                                      maxPeaks=60)\n",
    "    # Use default HPCP parameters for plots, however we will need higher resolution\n",
    "    # and custom parameters for better Key estimation\n",
    "    hpcp = ess.HPCP()\n",
    "    hpcp_key = ess.HPCP(size=36, # we will need higher resolution for Key estimation\n",
    "                        referenceFrequency=440, # assume tuning frequency is 44100.\n",
    "                        bandPreset=False,\n",
    "                        minFrequency=20,\n",
    "                        maxFrequency=3500,\n",
    "                        weightType='cosine',\n",
    "                        nonLinear=False,\n",
    "                        windowSize=1.)\n",
    "    key = ess.Key(profileType='edma', # Use profile for electronic music\n",
    "                  numHarmonics=4,\n",
    "                  pcpSize=36,\n",
    "                  slope=0.6,\n",
    "                  usePolyphony=True,\n",
    "                  useThreeChords=True)\n",
    "    # Use pool to store data\n",
    "    pool = essentia.Pool()\n",
    "    # Connect streaming algorithms\n",
    "    \n",
    "    ###################################\n",
    "    # USE FILTER - comment next lines in\n",
    "    \n",
    "    loader.audio >> HP.signal\n",
    "    HP.signal >> LP.signal\n",
    "    LP.signal >> framecutter.signal\n",
    "    ###################################\n",
    "    \n",
    "    ###################################\n",
    "    # NO FILTER - comment next line in\n",
    "    #loader.audio >> framecutter.signal        \n",
    "    ###################################\n",
    "    framecutter.frame >> windowing.frame >> spectrum.frame\n",
    "    spectrum.spectrum >> spectralpeaks.spectrum\n",
    "    spectralpeaks.magnitudes >> hpcp.magnitudes\n",
    "    spectralpeaks.frequencies >> hpcp.frequencies\n",
    "    spectralpeaks.magnitudes >> hpcp_key.magnitudes\n",
    "    spectralpeaks.frequencies >> hpcp_key.frequencies\n",
    "    hpcp_key.hpcp >> key.pcp\n",
    "    hpcp.hpcp >> (pool, 'tonal.hpcp')\n",
    "    key.key >> (pool, 'tonal.key_key')\n",
    "    key.scale >> (pool, 'tonal.key_scale')\n",
    "    key.strength >> (pool, 'tonal.key_strength')\n",
    "    # Run streaming network\n",
    "    essentia.run(loader)\n",
    "    #print(\"Estimated key and scale:\", pool['tonal.key_key'] + \" \" + pool['tonal.key_scale'])\n",
    "    #print(pool['tonal.hpcp'].T)\n",
    "    chroma = pool['tonal.hpcp'].T\n",
    "\n",
    "    # Plot HPCP\n",
    "    imshow(pool['tonal.hpcp'].T, aspect='auto', origin='lower', interpolation='none')\n",
    "    plt.title(\"HPCPs in frames (the 0-th HPCP coefficient corresponds to A)\")\n",
    "    show()\n",
    "    \n",
    "    #print beats_frames.shape[0]\n",
    "    chroma_matrix = np.zeros((beats_frames.shape[0], 12))\n",
    "    \n",
    "    prev_beat = 0\n",
    "    act_beat = 0\n",
    "    sum_key = np.zeros(12)\n",
    "    chroma_align = chroma\n",
    "    chroma_align = chroma_align.transpose()\n",
    "    mat_index = 0\n",
    "    for i in beats_frames:\n",
    "        act_beat = i\n",
    "        value = sum(chroma_align[prev_beat:act_beat])/(act_beat-prev_beat)\n",
    "        chroma_align[prev_beat:act_beat] = value\n",
    "        prev_beat = i\n",
    "        chroma_matrix[mat_index] = value\n",
    "        mat_index = mat_index + 1\n",
    "        \n",
    "    chroma_align = chroma_align.transpose()   \n",
    "    \n",
    "    plt.figure(figsize=(10, 4))\n",
    "    librosa.display.specshow(chroma_align, y_axis='chroma', x_axis='time')\n",
    "    plt.vlines(times, 0, 12, alpha=0.5, color='r', linestyle='--', label='Beats')\n",
    "    plt.colorbar()\n",
    "    plt.title('Chromagram')\n",
    "    plt.tight_layout()\n",
    "\n",
    "    chroma_align = chroma_align.transpose()\n",
    "    \n",
    "    \n",
    "    print(chroma_align[24:28])\n",
    "    #####################################\n",
    "    # extract full chroma text\n",
    "    #####################################\n",
    "    \n",
    "    #print(chroma.shape)\n",
    "    m, n = chroma.shape\n",
    "    avg = 0\n",
    "    chroma = chroma.transpose()\n",
    "    m, n = chroma.shape\n",
    "    for j in chroma:\n",
    "        avg = avg + np.sum(j)\n",
    "    avg = avg / m\n",
    "    threshold = avg / 2\n",
    "    for i in chroma:\n",
    "        if np.sum(i) > threshold:\n",
    "            ind = np.where(i == np.max(i))\n",
    "            max_val = i[ind]#is always 1!\n",
    "            i[ind] = 0\n",
    "            \n",
    "            ind2 = np.where(i == np.max(i))\n",
    "            i[ind] = 1\n",
    "            \n",
    "            #if np.any(i[ind2][0] >= 0.8 * max_val):\n",
    "                #i[ind2] = i[ind2]\n",
    "                #pass\n",
    "            #low_values_flags = i < 1\n",
    "            low_values_flags = i < 0.8\n",
    "            \n",
    "            i[low_values_flags] = 0\n",
    "        else:\n",
    "            i.fill(0)     \n",
    "    chroma = chroma.transpose()\n",
    "    # Compute beat positions and BPM\n",
    "    prev_beat = 0\n",
    "    act_beat = 0\n",
    "    sum_key = np.zeros(12)\n",
    "    chroma = chroma.transpose()  \n",
    "    for i in beats_frames:\n",
    "        act_beat = i\n",
    "        sum_key = sum(chroma[prev_beat:act_beat])\n",
    "        #print(sum_key)\n",
    "        #print(chroma[prev_beat:act_beat])\n",
    "\n",
    "        ind = np.where(sum_key == np.max(sum_key))\n",
    "        ind = ind[0]\n",
    "        #print(\"debug\")\n",
    "        fill = np.zeros(len(j))\n",
    "        if(np.all(chroma[prev_beat:act_beat] == 0)):\n",
    "            fill[ind] = 0\n",
    "        else:    \n",
    "            fill[ind] = 1\n",
    "        chroma[prev_beat:act_beat] = fill\n",
    "        #print(chroma[prev_beat:act_beat])\n",
    "        prev_beat = i\n",
    "        #print(\"BEAT\")\n",
    "    \n",
    "    notes = []\n",
    "    for i in notes:\n",
    "        del i\n",
    "        \n",
    "    prev_beat = 0\n",
    "    act_beat = 0    \n",
    "    for i in beats_frames:\n",
    "        act_beat = i\n",
    "        sum_key = sum(chroma[prev_beat:act_beat])\n",
    "        ind = np.where(sum_key == np.max(sum_key))\n",
    "        prev_beat = i\n",
    "        notes.append(ind[0][0])\n",
    "        prev_beat = i \n",
    "    chroma = chroma.transpose()  \n",
    "\n",
    "    plt.figure(figsize=(10, 4))\n",
    "    librosa.display.specshow(chroma, y_axis='chroma', x_axis='time')\n",
    "    plt.vlines(times, 0, 12, alpha=0.5, color='r', linestyle='--', label='Beats')\n",
    "    plt.colorbar()\n",
    "    plt.title('Chromagram')\n",
    "    plt.tight_layout()\n",
    "\n",
    "    chroma = chroma.transpose()  \n",
    "    \n",
    "    return bpm, histogram, pool['tonal.key_key'], pool['tonal.key_scale'], notes, chroma_matrix, mean, cov\n"
   ]
  },
  {
   "cell_type": "code",
   "execution_count": 14,
   "metadata": {},
   "outputs": [
    {
     "data": {
      "image/png": "[encoded data removed]",
      "text/plain": [
       "<Figure size 432x288 with 2 Axes>"
      ]
     },
     "metadata": {
      "needs_background": "light"
     },
     "output_type": "display_data"
    },
    {
     "data": {
      "image/png": "[encoded data removed]",
      "text/plain": [
       "<Figure size 432x288 with 1 Axes>"
      ]
     },
     "metadata": {
      "needs_background": "light"
     },
     "output_type": "display_data"
    },
    {
     "data": {
      "image/png": "[encoded data removed]",
      "text/plain": [
       "<Figure size 432x288 with 1 Axes>"
      ]
     },
     "metadata": {
      "needs_background": "light"
     },
     "output_type": "display_data"
    },
    {
     "name": "stdout",
     "output_type": "stream",
     "text": [
      "[[0.84204245 0.2664691  0.06457147 0.64466244 0.14557083 0.382868\n",
      "  0.15356053 0.13123909 0.20519252 0.398251   0.12362785 0.3312278 ]\n",
      " [0.84204245 0.2664691  0.06457147 0.64466244 0.14557083 0.382868\n",
      "  0.15356053 0.13123909 0.20519252 0.398251   0.12362785 0.3312278 ]\n",
      " [0.84204245 0.2664691  0.06457147 0.64466244 0.14557083 0.382868\n",
      "  0.15356053 0.13123909 0.20519252 0.398251   0.12362785 0.3312278 ]\n",
      " [0.7431811  0.06587498 0.02696096 0.7892081  0.1896631  0.57935804\n",
      "  0.11095666 0.06028787 0.1923501  0.2600882  0.06976978 0.2935893 ]]\n"
     ]
    },
    {
     "data": {
      "image/png": "[encoded data removed]",
      "text/plain": [
       "<Figure size 720x288 with 2 Axes>"
      ]
     },
     "metadata": {
      "needs_background": "light"
     },
     "output_type": "display_data"
    },
    {
     "data": {
      "image/png": "[encoded data removed]",
      "text/plain": [
       "<Figure size 720x288 with 2 Axes>"
      ]
     },
     "metadata": {
      "needs_background": "light"
     },
     "output_type": "display_data"
    }
   ],
   "source": [
    "bpm, histogram, key, scale, notes, chroma_matrix, mean, cov = compute_features(path)"
   ]
  },
  {
   "cell_type": "code",
   "execution_count": 5,
   "metadata": {},
   "outputs": [
    {
     "name": "stdout",
     "output_type": "stream",
     "text": [
      "[[0.25203007 0.0626901  0.35601303 0.05991574 0.74060255 0.62777287\n",
      "  0.02877426 0.08696426 0.59010315 0.34085834 0.33500275 0.33873543]\n",
      " [0.84204245 0.26646909 0.06457147 0.64466244 0.14557083 0.38286799\n",
      "  0.15356053 0.13123909 0.20519252 0.398251   0.12362785 0.33122781]\n",
      " [0.74318111 0.06587498 0.02696096 0.78920811 0.1896631  0.57935804\n",
      "  0.11095666 0.06028787 0.1923501  0.26008821 0.06976978 0.29358929]\n",
      " [0.32822838 0.0433817  0.06855341 0.33287331 0.16686673 0.7804895\n",
      "  0.02452408 0.27092031 0.05477703 0.50404    0.02067219 0.0675384 ]\n",
      " [0.45754051 0.05103247 0.02349698 0.21818341 0.17000343 0.81950265\n",
      "  0.0711791  0.38038081 0.04716098 0.77658039 0.04851981 0.21011423]\n",
      " [0.24862626 0.00496024 0.00580555 0.35485515 0.01478711 0.88113868\n",
      "  0.07815475 0.54320788 0.11602152 0.74360436 0.01453417 0.13105755]\n",
      " [0.25719085 0.00546224 0.01453198 0.39256254 0.01374786 0.75357592\n",
      "  0.07077929 0.53051877 0.16598883 0.78056991 0.01488643 0.12914637]\n",
      " [0.99868238 0.19142374 0.11799355 0.00228937 0.00682107 0.53671181\n",
      "  0.04471415 0.06420431 0.03457489 0.33636597 0.05638263 0.06251885]\n",
      " [0.99824566 0.48960775 0.12096404 0.01432308 0.03436808 0.05925192\n",
      "  0.14897907 0.05605245 0.08397577 0.17607518 0.16446407 0.16351092]\n",
      " [0.99979126 0.35741714 0.1171968  0.09064458 0.00740814 0.08492201\n",
      "  0.05368336 0.15418433 0.0565276  0.22815038 0.33318174 0.29647097]\n",
      " [0.99909693 0.28460282 0.17422462 0.10195886 0.01376034 0.08316738\n",
      "  0.11210243 0.15326762 0.21149287 0.0886191  0.35751665 0.24182454]\n",
      " [0.99984461 0.14082384 0.1041093  0.16903551 0.02297172 0.38806084\n",
      "  0.12938501 0.02969673 0.45540354 0.02602114 0.33566013 0.24293017]\n",
      " [0.08858522 0.04469796 0.01932071 0.05712852 0.09402708 0.09927002\n",
      "  0.12805745 0.09732585 0.11403187 0.31973967 0.85531712 0.00295183]\n",
      " [0.01112369 0.16832648 0.00976917 0.00670398 0.01740812 0.07011911\n",
      "  0.38248712 0.08639213 0.04240892 0.07167122 0.99759489 0.13214833]\n",
      " [0.03047334 0.06199847 0.01229188 0.01646694 0.01742594 0.066132\n",
      "  0.80560285 0.0271024  0.04406292 0.0624772  0.96132088 0.00493949]\n",
      " [0.05806936 0.1341244  0.01303922 0.05434144 0.0117697  0.03128034\n",
      "  0.50590795 0.04005581 0.07986619 0.0384596  1.         0.01380788]\n",
      " [0.02356499 0.75037444 0.07529406 0.01615227 0.05235482 0.03235321\n",
      "  0.71636677 0.15619022 0.2222092  0.0038579  0.40324238 0.10333835]\n",
      " [0.12430711 0.42243534 0.09834687 0.16094452 0.17323901 0.32423511\n",
      "  0.63098115 0.13217258 0.21204668 0.04740029 0.79042059 0.14219205]\n",
      " [0.20072828 0.31404608 0.13311262 0.18463281 0.1721133  0.20443119\n",
      "  0.62895381 0.08950471 0.22516586 0.05033843 0.93494159 0.03258236]\n",
      " [0.11794471 0.59176338 0.20341942 0.12705906 0.18844689 0.2353123\n",
      "  0.81162834 0.0962555  0.40476587 0.05704858 0.89210922 0.05380531]]\n"
     ]
    }
   ],
   "source": [
    "print(chroma_matrix)"
   ]
  },
  {
   "cell_type": "code",
   "execution_count": 6,
   "metadata": {},
   "outputs": [
    {
     "name": "stdout",
     "output_type": "stream",
     "text": [
      "[0.         0.         0.         0.         0.         0.\n",
      " 0.         0.         0.         0.         0.         0.\n",
      " 0.         0.         0.         0.         0.         0.\n",
      " 0.         0.         0.         0.         0.         0.\n",
      " 0.         0.         0.         0.         0.         0.\n",
      " 0.         0.         0.         0.         0.         0.\n",
      " 0.         0.         0.         0.         0.         0.\n",
      " 0.         0.         0.         0.         0.         0.\n",
      " 0.         0.         0.         0.         0.         0.\n",
      " 0.         0.         0.         0.         0.         0.\n",
      " 0.         0.         0.         0.         0.         0.\n",
      " 0.         0.         0.         0.         0.         0.\n",
      " 0.         0.         0.         0.         0.         0.\n",
      " 0.         0.         0.         0.         0.         0.\n",
      " 0.         0.         0.         0.         0.05263158 0.\n",
      " 0.         0.21052632 0.10526316 0.         0.05263158 0.\n",
      " 0.10526316 0.         0.21052632 0.15789473 0.         0.10526316\n",
      " 0.         0.         0.         0.         0.         0.\n",
      " 0.         0.         0.         0.         0.         0.\n",
      " 0.         0.         0.         0.         0.         0.\n",
      " 0.         0.         0.         0.         0.         0.\n",
      " 0.         0.         0.         0.         0.         0.\n",
      " 0.         0.         0.         0.         0.         0.\n",
      " 0.         0.         0.         0.         0.         0.\n",
      " 0.         0.         0.         0.         0.         0.\n",
      " 0.         0.         0.         0.         0.         0.\n",
      " 0.         0.         0.         0.         0.         0.\n",
      " 0.         0.         0.         0.         0.         0.\n",
      " 0.         0.         0.         0.         0.         0.\n",
      " 0.         0.         0.         0.         0.         0.\n",
      " 0.         0.         0.         0.         0.         0.\n",
      " 0.         0.         0.         0.         0.         0.\n",
      " 0.         0.         0.         0.         0.         0.\n",
      " 0.         0.         0.         0.         0.         0.\n",
      " 0.         0.         0.         0.         0.         0.\n",
      " 0.         0.         0.         0.         0.         0.\n",
      " 0.         0.         0.         0.         0.         0.\n",
      " 0.         0.         0.         0.         0.         0.\n",
      " 0.         0.         0.         0.         0.         0.\n",
      " 0.         0.         0.         0.         0.         0.\n",
      " 0.         0.         0.         0.         0.         0.\n",
      " 0.         0.         0.         0.        ]\n"
     ]
    }
   ],
   "source": [
    "print histogram"
   ]
  },
  {
   "cell_type": "code",
   "execution_count": 7,
   "metadata": {},
   "outputs": [
    {
     "name": "stdout",
     "output_type": "stream",
     "text": [
      "G\n"
     ]
    }
   ],
   "source": [
    "print key"
   ]
  },
  {
   "cell_type": "code",
   "execution_count": 8,
   "metadata": {},
   "outputs": [
    {
     "name": "stdout",
     "output_type": "stream",
     "text": [
      "minor\n"
     ]
    }
   ],
   "source": [
    "print scale"
   ]
  },
  {
   "cell_type": "code",
   "execution_count": 9,
   "metadata": {},
   "outputs": [
    {
     "name": "stdout",
     "output_type": "stream",
     "text": [
      "[4, 0, 3, 5, 5, 5, 9, 0, 0, 0, 0, 0, 10, 10, 10, 10, 1, 10, 10, 10]\n"
     ]
    }
   ],
   "source": [
    "print notes"
   ]
  },
  {
   "cell_type": "code",
   "execution_count": 10,
   "metadata": {},
   "outputs": [
    {
     "name": "stdout",
     "output_type": "stream",
     "text": [
      "91.098815918\n"
     ]
    }
   ],
   "source": [
    "print bpm"
   ]
  },
  {
   "cell_type": "code",
   "execution_count": 11,
   "metadata": {},
   "outputs": [
    {
     "name": "stdout",
     "output_type": "stream",
     "text": [
      "[-9.7823645e+02  1.1480081e+02 -2.1701511e+01 -1.8895168e+01\n",
      "  6.8604422e-01 -1.6423550e+01 -1.4200696e+01  2.2541208e+00\n",
      "  3.2243602e+00  2.0740244e-01 -2.7668786e+00 -1.3699087e+01\n",
      " -1.3363035e+01]\n"
     ]
    }
   ],
   "source": [
    "print mean"
   ]
  },
  {
   "cell_type": "code",
   "execution_count": 12,
   "metadata": {},
   "outputs": [
    {
     "name": "stdout",
     "output_type": "stream",
     "text": [
      "[ 1.26810509e+04  7.61063807e+03 -2.98861590e+03 -6.06244724e+02\n",
      "  8.58371477e+02 -8.22416446e+02 -4.35923066e+02  5.38302493e+02\n",
      "  3.15394592e+01 -2.46795071e+02 -8.48420237e+00 -7.40469112e+02\n",
      "  5.88899182e+03 -8.93008466e+01 -2.75244602e+02  3.20337442e+02\n",
      " -2.75626747e+02 -3.69405975e+02 -2.24119618e+02 -4.14634937e+02\n",
      " -2.28012252e+02  1.57250911e+02 -1.58164008e+02  3.16617250e+03\n",
      "  5.13532076e+02 -4.80199999e+02  5.32637485e+02  3.23529625e+00\n",
      " -9.27804982e+02 -6.86059466e+02 -1.17383580e+02  2.79639627e+02\n",
      "  6.50714889e+02  4.01407417e+02  5.34957295e+01  9.65731391e+01\n",
      "  1.84934446e+01 -1.77802014e+02 -2.23889414e+02 -9.74866850e+01\n",
      "  1.60123118e+02  2.33426764e+02  2.88159252e+02 -6.53107350e+01\n",
      " -6.34261693e+01  9.96906765e+01 -1.18992330e+01 -4.46383672e+01\n",
      "  7.57788077e+01 -4.52179179e-01  1.83570775e+02  5.77626600e+01\n",
      " -1.28192961e+02 -7.28901202e+01 -1.12899706e+01  3.13531517e+01\n",
      "  1.12353193e+02  1.13182747e+02  7.05606578e+01  7.55378745e+01\n",
      "  3.04303733e+01 -5.37599517e+01 -4.27297074e+01  3.69814236e+02\n",
      "  3.02289309e+02  6.52748485e+01 -1.41329518e+02 -2.47733253e+02\n",
      "  3.37402113e+02  1.15143729e+02 -1.85485007e+02 -2.44280474e+02\n",
      "  9.13387543e+01 -5.02907824e+01 -7.85605271e+01  1.84280377e+02\n",
      "  1.84960214e+02  3.05656083e+02]\n"
     ]
    }
   ],
   "source": [
    "print cov"
   ]
  },
  {
   "cell_type": "code",
   "execution_count": null,
   "metadata": {},
   "outputs": [],
   "source": [
    "# Loading audio file\n",
    "#will resample if sampleRate is different!\n",
    "audio = es.MonoLoader(filename=path, sampleRate=fs)()\n",
    "\n",
    "hamming_window = es.Windowing(type='hamming')\n",
    "spectrum = es.Spectrum()  # we just want the magnitude spectrum\n",
    "mfcc = es.MFCC(numberCoefficients=13)\n",
    "frame_sz = 4096\n",
    "hop_sz = 2048\n",
    "\n",
    "mfccs = numpy.array([mfcc(spectrum(hamming_window(frame)))[1]\n",
    "               for frame in es.FrameGenerator(audio, frameSize=frame_sz, hopSize=hop_sz)])\n",
    "print mfccs.shape\n",
    "m = mfccs.T.shape[1]\n",
    "\n",
    "mean = numpy.mean(mfccs.T, axis=1)\n",
    "#print(mean)\n",
    "var = numpy.var(mfccs.T, axis=1)\n",
    "#print(var)\n",
    "cov = numpy.cov(mfccs.T)\n",
    "iu1 = np.triu_indices(13)\n",
    "cov = cov[iu1]\n",
    "\n",
    "print mean\n",
    "\n",
    "print cov"
   ]
  },
  {
   "cell_type": "code",
   "execution_count": null,
   "metadata": {
    "scrolled": true
   },
   "outputs": [],
   "source": [
    "#####################################\n",
    "# extract mfcc\n",
    "#####################################\n",
    "# Loading audio file\n",
    "#will resample if sampleRate is different!\n",
    "audio = es.MonoLoader(filename=path, sampleRate=fs)()\n",
    "# Initialize algorithms we will use\n",
    "frameSize = 4096#512\n",
    "hopSize = 2048#256\n",
    "\n",
    "features, features_frames = es.MusicExtractor(analysisSampleRate=44100, mfccStats=['mean', 'cov'])(path)\n",
    "m, n = features['lowlevel.mfcc.cov'].shape\n",
    "print m\n",
    "iu1 = np.triu_indices(m)\n",
    "cov = features['lowlevel.mfcc.cov'][iu1]\n",
    "mean = features['lowlevel.mfcc.mean']\n",
    "\n",
    "print mean\n",
    "print cov"
   ]
  },
  {
   "cell_type": "code",
   "execution_count": null,
   "metadata": {},
   "outputs": [],
   "source": [
    "# Loading audio file\n",
    "\n",
    "import essentia\n",
    "import essentia.streaming as ess\n",
    "\n",
    "loader = ess.MonoLoader(filename=path, sampleRate=44100)\n",
    "writer = ess.MonoWriter(filename='music/filtered.wav')\n",
    "# Initialize algorithms we will use\n",
    "frameSize = 4096#512\n",
    "hopSize = 2048#256\n",
    "\n",
    "#will resample if sampleRate is different!\n",
    "\n",
    "#MonoWriter(filename='music/filtered.wav')(filtered_audio)\n",
    "\n",
    "HP = ess.HighPass(cutoffFrequency=128)\n",
    "LP = ess.LowPass(cutoffFrequency=4096)\n",
    "\n",
    "loader = ess.MonoLoader(filename=path, sampleRate=44100)\n",
    "frameCutter = FrameCutter(frameSize = 1024, hopSize = 512)\n",
    "\n",
    "pool = essentia.Pool()\n",
    "# Connect streaming algorithms\n",
    "loader.audio >> HP.signal\n",
    "HP.signal >> LP.signal\n",
    "LP.signal >> writer.audio\n",
    "# Run streaming network\n",
    "\n",
    "essentia.run(loader)\n",
    "\n"
   ]
  },
  {
   "cell_type": "code",
   "execution_count": 16,
   "metadata": {},
   "outputs": [
    {
     "data": {
      "image/png": "[encoded data removed]",
      "text/plain": [
       "<Figure size 432x288 with 2 Axes>"
      ]
     },
     "metadata": {
      "needs_background": "light"
     },
     "output_type": "display_data"
    },
    {
     "data": {
      "image/png": "[encoded data removed]",
      "text/plain": [
       "<Figure size 432x288 with 1 Axes>"
      ]
     },
     "metadata": {
      "needs_background": "light"
     },
     "output_type": "display_data"
    },
    {
     "data": {
      "image/png": "[encoded data removed]",
      "text/plain": [
       "<Figure size 432x288 with 2 Axes>"
      ]
     },
     "metadata": {
      "needs_background": "light"
     },
     "output_type": "display_data"
    },
    {
     "data": {
      "image/png": "[encoded data removed]",
      "text/plain": [
       "<Figure size 432x288 with 1 Axes>"
      ]
     },
     "metadata": {
      "needs_background": "light"
     },
     "output_type": "display_data"
    }
   ],
   "source": [
    "# Loading audio file\n",
    "#will resample if sampleRate is different!\n",
    "audio = es.MonoLoader(filename=path, sampleRate=fs)()\n",
    "#will resample if sampleRate is different!\n",
    "loader = ess.MonoLoader(filename=path, sampleRate=44100)\n",
    "# Initialize algorithms we will use\n",
    "frameSize = 4096#512\n",
    "hopSize = 2048#256\n",
    "hamming_window = es.Windowing(type='hamming')\n",
    "spectrum = es.Spectrum()  # we just want the magnitude spectrum\n",
    "mfcc = es.MFCC(numberCoefficients=13)\n",
    "frame_sz = 2048#512\n",
    "hop_sz = 1024#256\n",
    "mfccs = numpy.array([mfcc(spectrum(hamming_window(frame)))[1]\n",
    "               for frame in es.FrameGenerator(audio, frameSize=frame_sz, hopSize=hop_sz)])\n",
    "\n",
    "#Let's scale the MFCCs such that each coefficient dimension has zero mean and unit variance:\n",
    "#mfccs = sklearn.preprocessing.scale(mfccs)\n",
    "#print mfccs.shape\n",
    "\n",
    "mean = numpy.mean(mfccs.T, axis=1)\n",
    "#print(mean)\n",
    "var = numpy.var(mfccs.T, axis=1)\n",
    "#print(var)\n",
    "cov = numpy.cov(mfccs.T)\n",
    "\n",
    "#get only upper triangular matrix values to shorten length\n",
    "iu1 = np.triu_indices(12)\n",
    "cov = cov[iu1]\n",
    "\n",
    "plt.imshow(mfccs.T, origin='lower', aspect='auto', interpolation='nearest')\n",
    "plt.ylabel('MFCC Coefficient Index')\n",
    "plt.xlabel('Frame Index')    \n",
    "plt.colorbar()\n",
    "\n",
    "#####################################\n",
    "# extract beat features and histogram\n",
    "#####################################\n",
    "\n",
    "# Compute beat positions and BPM\n",
    "rhythm_extractor = es.RhythmExtractor2013(method=\"multifeature\")\n",
    "bpm, beats, beats_confidence, _, beats_intervals = rhythm_extractor(audio)\n",
    "peak1_bpm, peak1_weight, peak1_spread, peak2_bpm, peak2_weight, peak2_spread, histogram = BpmHistogramDescriptors()(beats_intervals)\n",
    "\n",
    "tempo = bpm\n",
    "times = beats\n",
    "beats_frames = (beats * fs) / hopSize\n",
    "beats_frames = beats_frames.astype(int)\n",
    "\n",
    "fig, ax = plt.subplots()\n",
    "ax.bar(range(len(histogram)), histogram, width=1)\n",
    "ax.set_xlabel('BPM')\n",
    "ax.set_ylabel('Frequency')\n",
    "plt.title(\"BPM histogram\")\n",
    "ax.set_xticks([20 * x + 0.5 for x in range(int(len(histogram) / 20))])\n",
    "ax.set_xticklabels([str(20 * x) for x in range(int(len(histogram) / 20))])\n",
    "plt.show()\n",
    "\n",
    "\n",
    "HP = es.HighPass(cutoffFrequency=128)\n",
    "LP = es.LowPass(cutoffFrequency=4096)\n",
    "lp_f = LP(audio)\n",
    "hp_f = HP(lp_f)\n",
    "audio = hp_f\n",
    "MonoWriter(filename='music/filtered.wav')(audio)\n",
    "\n",
    "hamming_window = es.Windowing(type='hamming')\n",
    "spectrum = es.Spectrum()  # we just want the magnitude spectrum\n",
    "mfcc = es.MFCC(numberCoefficients=13)\n",
    "frame_sz = 2048#512\n",
    "hop_sz = 1024#256\n",
    "mfccs = numpy.array([mfcc(spectrum(hamming_window(frame)))[1]\n",
    "               for frame in es.FrameGenerator(audio, frameSize=frame_sz, hopSize=hop_sz)])\n",
    "\n",
    "#Let's scale the MFCCs such that each coefficient dimension has zero mean and unit variance:\n",
    "#mfccs = sklearn.preprocessing.scale(mfccs)\n",
    "#print mfccs.shape\n",
    "\n",
    "mean = numpy.mean(mfccs.T, axis=1)\n",
    "#print(mean)\n",
    "var = numpy.var(mfccs.T, axis=1)\n",
    "#print(var)\n",
    "cov = numpy.cov(mfccs.T)\n",
    "\n",
    "#get only upper triangular matrix values to shorten length\n",
    "iu1 = np.triu_indices(12)\n",
    "cov = cov[iu1]\n",
    "\n",
    "plt.imshow(mfccs.T, origin='lower', aspect='auto', interpolation='nearest')\n",
    "plt.ylabel('MFCC Coefficient Index')\n",
    "plt.xlabel('Frame Index')    \n",
    "plt.colorbar()\n",
    "\n",
    "#####################################\n",
    "# extract beat features and histogram\n",
    "#####################################\n",
    "\n",
    "# Compute beat positions and BPM\n",
    "rhythm_extractor = es.RhythmExtractor2013(method=\"multifeature\")\n",
    "bpm, beats, beats_confidence, _, beats_intervals = rhythm_extractor(audio)\n",
    "peak1_bpm, peak1_weight, peak1_spread, peak2_bpm, peak2_weight, peak2_spread, histogram = BpmHistogramDescriptors()(beats_intervals)\n",
    "\n",
    "tempo = bpm\n",
    "times = beats\n",
    "beats_frames = (beats * fs) / hopSize\n",
    "beats_frames = beats_frames.astype(int)\n",
    "\n",
    "fig, ax = plt.subplots()\n",
    "ax.bar(range(len(histogram)), histogram, width=1)\n",
    "ax.set_xlabel('BPM')\n",
    "ax.set_ylabel('Frequency')\n",
    "plt.title(\"BPM histogram\")\n",
    "ax.set_xticks([20 * x + 0.5 for x in range(int(len(histogram) / 20))])\n",
    "ax.set_xticklabels([str(20 * x) for x in range(int(len(histogram) / 20))])\n",
    "plt.show()\n"
   ]
  },
  {
   "cell_type": "code",
   "execution_count": null,
   "metadata": {},
   "outputs": [],
   "source": []
  }
 ],
 "metadata": {
  "kernelspec": {
   "display_name": "Python 2",
   "language": "python",
   "name": "python2"
  },
  "language_info": {
   "codemirror_mode": {
    "name": "ipython",
    "version": 3
   },
   "file_extension": ".py",
   "mimetype": "text/x-python",
   "name": "python",
   "nbconvert_exporter": "python",
   "pygments_lexer": "ipython3",
   "version": "3.7.3"
  }
 },
 "nbformat": 4,
 "nbformat_minor": 2
}
